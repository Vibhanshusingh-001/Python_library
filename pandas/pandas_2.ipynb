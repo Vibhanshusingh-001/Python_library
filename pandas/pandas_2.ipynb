{
 "cells": [
  {
   "cell_type": "code",
   "execution_count": 1,
   "id": "b4040a98-aab7-433e-9502-0043c94b4677",
   "metadata": {},
   "outputs": [],
   "source": [
    "import pandas as pd"
   ]
  },
  {
   "cell_type": "code",
   "execution_count": 10,
   "id": "294b7595-3fdd-456a-bdf8-7b99d50fcae0",
   "metadata": {},
   "outputs": [],
   "source": [
    "df=pd.read_csv(\"iris_test.csv \",header=None)\n",
    "# pandas pahle row ko as a column hi maan kar cahlata hai\n",
    "#By setting header=None during the reading process, you inform pandas that there is no header in the data, \n",
    "# and it will use default numeric column names"
   ]
  },
  {
   "cell_type": "code",
   "execution_count": 11,
   "id": "4a0ea6d0-581b-45ad-b6c4-c69eaee2937a",
   "metadata": {},
   "outputs": [
    {
     "data": {
      "text/html": [
       "<div>\n",
       "<style scoped>\n",
       "    .dataframe tbody tr th:only-of-type {\n",
       "        vertical-align: middle;\n",
       "    }\n",
       "\n",
       "    .dataframe tbody tr th {\n",
       "        vertical-align: top;\n",
       "    }\n",
       "\n",
       "    .dataframe thead th {\n",
       "        text-align: right;\n",
       "    }\n",
       "</style>\n",
       "<table border=\"1\" class=\"dataframe\">\n",
       "  <thead>\n",
       "    <tr style=\"text-align: right;\">\n",
       "      <th></th>\n",
       "      <th>0</th>\n",
       "      <th>1</th>\n",
       "      <th>2</th>\n",
       "    </tr>\n",
       "  </thead>\n",
       "  <tbody>\n",
       "    <tr>\n",
       "      <th>0</th>\n",
       "      <td>Iris versicolor</td>\n",
       "      <td>3.4</td>\n",
       "      <td>1.1</td>\n",
       "    </tr>\n",
       "    <tr>\n",
       "      <th>1</th>\n",
       "      <td>Iris versicolor</td>\n",
       "      <td>3.7</td>\n",
       "      <td>1.4</td>\n",
       "    </tr>\n",
       "    <tr>\n",
       "      <th>2</th>\n",
       "      <td>Iris versicolor</td>\n",
       "      <td>3.4</td>\n",
       "      <td>0.9</td>\n",
       "    </tr>\n",
       "    <tr>\n",
       "      <th>3</th>\n",
       "      <td>Iris versicolor</td>\n",
       "      <td>3.8</td>\n",
       "      <td>1.2</td>\n",
       "    </tr>\n",
       "    <tr>\n",
       "      <th>4</th>\n",
       "      <td>Iris versicolor</td>\n",
       "      <td>4.3</td>\n",
       "      <td>1.4</td>\n",
       "    </tr>\n",
       "  </tbody>\n",
       "</table>\n",
       "</div>"
      ],
      "text/plain": [
       "                 0    1    2\n",
       "0  Iris versicolor  3.4  1.1\n",
       "1  Iris versicolor  3.7  1.4\n",
       "2  Iris versicolor  3.4  0.9\n",
       "3  Iris versicolor  3.8  1.2\n",
       "4  Iris versicolor  4.3  1.4"
      ]
     },
     "execution_count": 11,
     "metadata": {},
     "output_type": "execute_result"
    }
   ],
   "source": [
    "df.head()"
   ]
  },
  {
   "cell_type": "code",
   "execution_count": 12,
   "id": "77af413f-53e8-4c8e-ae6a-230475e670a9",
   "metadata": {},
   "outputs": [
    {
     "data": {
      "text/html": [
       "<div>\n",
       "<style scoped>\n",
       "    .dataframe tbody tr th:only-of-type {\n",
       "        vertical-align: middle;\n",
       "    }\n",
       "\n",
       "    .dataframe tbody tr th {\n",
       "        vertical-align: top;\n",
       "    }\n",
       "\n",
       "    .dataframe thead th {\n",
       "        text-align: right;\n",
       "    }\n",
       "</style>\n",
       "<table border=\"1\" class=\"dataframe\">\n",
       "  <thead>\n",
       "    <tr style=\"text-align: right;\">\n",
       "      <th></th>\n",
       "      <th>0</th>\n",
       "      <th>1</th>\n",
       "      <th>2</th>\n",
       "    </tr>\n",
       "  </thead>\n",
       "  <tbody>\n",
       "    <tr>\n",
       "      <th>995</th>\n",
       "      <td>Iris virginica</td>\n",
       "      <td>5.3</td>\n",
       "      <td>2.0</td>\n",
       "    </tr>\n",
       "    <tr>\n",
       "      <th>996</th>\n",
       "      <td>Iris virginica</td>\n",
       "      <td>6.0</td>\n",
       "      <td>2.2</td>\n",
       "    </tr>\n",
       "    <tr>\n",
       "      <th>997</th>\n",
       "      <td>Iris virginica</td>\n",
       "      <td>5.4</td>\n",
       "      <td>2.1</td>\n",
       "    </tr>\n",
       "    <tr>\n",
       "      <th>998</th>\n",
       "      <td>Iris virginica</td>\n",
       "      <td>5.7</td>\n",
       "      <td>2.1</td>\n",
       "    </tr>\n",
       "    <tr>\n",
       "      <th>999</th>\n",
       "      <td>Iris virginica</td>\n",
       "      <td>6.2</td>\n",
       "      <td>2.1</td>\n",
       "    </tr>\n",
       "  </tbody>\n",
       "</table>\n",
       "</div>"
      ],
      "text/plain": [
       "                  0    1    2\n",
       "995  Iris virginica  5.3  2.0\n",
       "996  Iris virginica  6.0  2.2\n",
       "997  Iris virginica  5.4  2.1\n",
       "998  Iris virginica  5.7  2.1\n",
       "999  Iris virginica  6.2  2.1"
      ]
     },
     "execution_count": 12,
     "metadata": {},
     "output_type": "execute_result"
    }
   ],
   "source": [
    "df.tail()"
   ]
  },
  {
   "cell_type": "code",
   "execution_count": 13,
   "id": "d034d071-cdd1-463d-b8e4-20a7603a6ff4",
   "metadata": {},
   "outputs": [
    {
     "data": {
      "text/plain": [
       "pandas.core.frame.DataFrame"
      ]
     },
     "execution_count": 13,
     "metadata": {},
     "output_type": "execute_result"
    }
   ],
   "source": [
    "type(df)"
   ]
  },
  {
   "cell_type": "code",
   "execution_count": 14,
   "id": "2ee57138-5a09-4c92-b288-ffbb33e19595",
   "metadata": {},
   "outputs": [
    {
     "data": {
      "text/plain": [
       "Index([0, 1, 2], dtype='int64')"
      ]
     },
     "execution_count": 14,
     "metadata": {},
     "output_type": "execute_result"
    }
   ],
   "source": [
    "df.columns # to know the column name of data "
   ]
  },
  {
   "cell_type": "code",
   "execution_count": 15,
   "id": "e4db480b-b0e0-43bf-a519-5bd615bdbfd5",
   "metadata": {},
   "outputs": [
    {
     "data": {
      "text/plain": [
       "[0, 1, 2]"
      ]
     },
     "execution_count": 15,
     "metadata": {},
     "output_type": "execute_result"
    }
   ],
   "source": [
    "# as a list chahiye to \n",
    "list(df.columns)"
   ]
  },
  {
   "cell_type": "code",
   "execution_count": null,
   "id": "dcd07a57-c35f-4270-b6dd-b741d15c46ca",
   "metadata": {},
   "outputs": [],
   "source": [
    "df[\"column nanme \"] # to get the data of perticular column"
   ]
  },
  {
   "cell_type": "code",
   "execution_count": 16,
   "id": "1bfe52da-00de-48d5-a480-41651ac39fd4",
   "metadata": {},
   "outputs": [
    {
     "data": {
      "text/plain": [
       "pandas.core.frame.DataFrame"
      ]
     },
     "execution_count": 16,
     "metadata": {},
     "output_type": "execute_result"
    }
   ],
   "source": [
    "type(df)"
   ]
  },
  {
   "cell_type": "markdown",
   "id": "25448357-eb7b-4881-a49a-d2bdc9928810",
   "metadata": {},
   "source": [
    "# series is equivalent to list"
   ]
  },
  {
   "cell_type": "code",
   "execution_count": null,
   "id": "8c2a7777-527e-4e94-bc0f-226cb378c844",
   "metadata": {},
   "outputs": [],
   "source": [
    "# series aur list me difference ye hota hai ki ki list me tumko indexes nhi dikhate pr hote hai \n",
    "# pr series me tumko indexes dikhate hai"
   ]
  },
  {
   "cell_type": "code",
   "execution_count": null,
   "id": "f76dcedf-9f40-4cb9-ba5a-e256ee1bc76c",
   "metadata": {},
   "outputs": [],
   "source": [
    "# agr aap 1 column ka naam pass karte ho bina list ke to wo series hota hai\n",
    "# agr aap list ke ander pass kiya same cheej to wo dataframe ban jata h "
   ]
  },
  {
   "cell_type": "code",
   "execution_count": null,
   "id": "0c11dd5f-0eb5-4600-8969-3c238ee460ee",
   "metadata": {},
   "outputs": [],
   "source": [
    "df[[\"col_1\",\"col2\"]] # agr 1 column hai to list paass karne ki koi jarurat nhi h"
   ]
  },
  {
   "cell_type": "code",
   "execution_count": null,
   "id": "d4f8f0d9-164f-4f16-9e6c-d0b5922614bb",
   "metadata": {},
   "outputs": [],
   "source": [
    "df.dtypes"
   ]
  },
  {
   "cell_type": "markdown",
   "id": "f5a95f5a-a1a1-43d3-a021-adecd1668ed9",
   "metadata": {},
   "source": [
    "# object ka matlab string hota h"
   ]
  },
  {
   "cell_type": "code",
   "execution_count": null,
   "id": "964857b0-c974-4fd0-9f1b-38fad2f874c0",
   "metadata": {},
   "outputs": [],
   "source": [
    "df1=pd.read_excel(\"\")"
   ]
  },
  {
   "cell_type": "code",
   "execution_count": 7,
   "id": "4bb2fdd0-85cd-472c-ab45-c1c21b62d7fe",
   "metadata": {},
   "outputs": [
    {
     "data": {
      "text/plain": [
       "[        Rk             Player   Age Team  Pos     G    GS      MP     FG  \\\n",
       " 0      1.0       James Harden  25.0  HOU   SG  81.0  81.0  2981.0  647.0   \n",
       " 1      2.0      Stephen Curry  26.0  GSW   PG  80.0  80.0  2613.0  653.0   \n",
       " 2      3.0  Russell Westbrook  26.0  OKC   PG  67.0  67.0  2302.0  627.0   \n",
       " 3      4.0       LeBron James  30.0  CLE   SF  69.0  69.0  2493.0  624.0   \n",
       " 4      5.0     Damian Lillard  24.0  POR   PG  82.0  82.0  2925.0  590.0   \n",
       " ..     ...                ...   ...  ...  ...   ...   ...     ...    ...   \n",
       " 647  489.0        Malcolm Lee  24.0  PHI   SG   1.0   0.0     2.0    0.0   \n",
       " 648  490.0        Kalin Lucas  25.0  MEM   PG   1.0   0.0     6.0    0.0   \n",
       " 649  491.0       Ronny Turiaf  32.0  MIN    C   2.0   0.0    19.0    0.0   \n",
       " 650  492.0         David Wear  24.0  SAC   PF   2.0   0.0     7.0    0.0   \n",
       " 651    NaN     League Average   NaN  NaN  NaN   NaN   NaN     NaN    NaN   \n",
       " \n",
       "         FGA  ...    DRB    TRB    AST    STL   BLK    TOV     PF     PTS  \\\n",
       " 0    1470.0  ...  384.0  459.0  565.0  154.0  60.0  321.0  208.0  2217.0   \n",
       " 1    1341.0  ...  285.0  341.0  619.0  163.0  16.0  249.0  158.0  1900.0   \n",
       " 2    1471.0  ...  364.0  488.0  574.0  140.0  14.0  293.0  184.0  1886.0   \n",
       " 3    1279.0  ...  365.0  416.0  511.0  109.0  49.0  272.0  135.0  1743.0   \n",
       " 4    1360.0  ...  329.0  378.0  507.0   97.0  21.0  222.0  164.0  1720.0   \n",
       " ..      ...  ...    ...    ...    ...    ...   ...    ...    ...     ...   \n",
       " 647     1.0  ...    0.0    0.0    0.0    0.0   0.0    0.0    0.0     0.0   \n",
       " 648     1.0  ...    0.0    0.0    0.0    1.0   0.0    0.0    1.0     0.0   \n",
       " 649     0.0  ...    1.0    1.0    2.0    0.0   0.0    0.0    0.0     0.0   \n",
       " 650     2.0  ...    0.0    2.0    1.0    0.0   0.0    0.0    1.0     0.0   \n",
       " 651     NaN  ...    NaN    NaN    NaN    NaN   NaN    NaN    NaN     NaN   \n",
       " \n",
       "      Trp-Dbl                 Awards  \n",
       " 0        4.0          MVP-2,AS,NBA1  \n",
       " 1        0.0          MVP-1,AS,NBA1  \n",
       " 2       11.0          MVP-4,AS,NBA2  \n",
       " 3        2.0  MVP-3,DPOY-13,AS,NBA1  \n",
       " 4        0.0                     AS  \n",
       " ..       ...                    ...  \n",
       " 647      0.0                    NaN  \n",
       " 648      0.0                    NaN  \n",
       " 649      0.0                    NaN  \n",
       " 650      0.0                    NaN  \n",
       " 651      NaN                    NaN  \n",
       " \n",
       " [652 rows x 32 columns],\n",
       "         Rk           Player   Age Team  Pos     G    GS     MP     FG    FGA  \\\n",
       " 0      1.0     LeBron James  30.0  CLE   SF  20.0  20.0  844.0  227.0  544.0   \n",
       " 1      2.0    Stephen Curry  26.0  GSW   PG  21.0  21.0  826.0  200.0  439.0   \n",
       " 2      3.0     James Harden  25.0  HOU   SG  17.0  17.0  636.0  129.0  294.0   \n",
       " 3      4.0    Klay Thompson  24.0  GSW   SG  21.0  21.0  761.0  149.0  334.0   \n",
       " 4      5.0    Blake Griffin  25.0  LAC   PF  14.0  14.0  557.0  140.0  274.0   \n",
       " ..     ...              ...   ...  ...  ...   ...   ...    ...    ...    ...   \n",
       " 204  205.0       Greg Smith  24.0  DAL   PF   1.0   0.0    1.0    0.0    0.0   \n",
       " 205  206.0       Russ Smith  23.0  MEM   PG   2.0   0.0    3.0    0.0    0.0   \n",
       " 206  207.0  Mirza Teletović  29.0  BRK   PF   3.0   0.0   16.0    0.0    5.0   \n",
       " 207  208.0   Gerald Wallace  32.0  BOS   SF   1.0   0.0    4.0    0.0    1.0   \n",
       " 208    NaN   League Average   NaN  NaN  NaN   NaN   NaN    NaN    NaN    NaN   \n",
       " \n",
       "      ...    DRB    TRB    AST   STL   BLK   TOV    PF    PTS  Trp-Dbl  Awards  \n",
       " 0    ...  189.0  226.0  169.0  33.0  21.0  82.0  58.0  601.0      3.0     NaN  \n",
       " 1    ...   85.0  105.0  134.0  39.0   3.0  82.0  47.0  594.0      0.0     NaN  \n",
       " 2    ...   85.0   97.0  128.0  28.0   7.0  77.0  49.0  462.0      1.0     NaN  \n",
       " 3    ...   72.0   81.0   54.0  16.0  19.0  41.0  64.0  391.0      0.0     NaN  \n",
       " 4    ...  140.0  178.0   86.0  14.0  14.0  45.0  43.0  357.0      3.0     NaN  \n",
       " ..   ...    ...    ...    ...   ...   ...   ...   ...    ...      ...     ...  \n",
       " 204  ...    0.0    0.0    0.0   0.0   0.0   0.0   0.0    0.0      0.0     NaN  \n",
       " 205  ...    0.0    0.0    2.0   0.0   0.0   0.0   0.0    0.0      0.0     NaN  \n",
       " 206  ...    4.0    4.0    0.0   1.0   0.0   1.0   1.0    0.0      0.0     NaN  \n",
       " 207  ...    1.0    1.0    0.0   0.0   0.0   0.0   0.0    0.0      0.0     NaN  \n",
       " 208  ...    NaN    NaN    NaN   NaN   NaN   NaN   NaN    NaN      NaN     NaN  \n",
       " \n",
       " [209 rows x 32 columns]]"
      ]
     },
     "execution_count": 7,
     "metadata": {},
     "output_type": "execute_result"
    }
   ],
   "source": [
    "import pandas as pd \n",
    "import lxml\n",
    "df2=pd.read_html(\"https://www.basketball-reference.com/leagues/NBA_2015_totals.html \")\n",
    "df2\n",
    "\n",
    "# ye as a list read karega "
   ]
  },
  {
   "cell_type": "code",
   "execution_count": 8,
   "id": "8a820aa5-c4d8-471c-9ee8-636d72e08167",
   "metadata": {},
   "outputs": [
    {
     "data": {
      "text/plain": [
       "2"
      ]
     },
     "execution_count": 8,
     "metadata": {},
     "output_type": "execute_result"
    }
   ],
   "source": [
    "len(df2)"
   ]
  },
  {
   "cell_type": "code",
   "execution_count": null,
   "id": "27447f23-03b5-4b17-bff2-b7540c85c11f",
   "metadata": {},
   "outputs": [],
   "source": [
    "# to store data in some filesystem \n",
    "df2.to_csv(\"player.csv\",index=false)"
   ]
  },
  {
   "cell_type": "code",
   "execution_count": null,
   "id": "c242f655-4c55-489f-9bd9-91e1a0a2873a",
   "metadata": {},
   "outputs": [],
   "source": []
  }
 ],
 "metadata": {
  "kernelspec": {
   "display_name": "Python 3 (ipykernel)",
   "language": "python",
   "name": "python3"
  },
  "language_info": {
   "codemirror_mode": {
    "name": "ipython",
    "version": 3
   },
   "file_extension": ".py",
   "mimetype": "text/x-python",
   "name": "python",
   "nbconvert_exporter": "python",
   "pygments_lexer": "ipython3",
   "version": "3.12.4"
  }
 },
 "nbformat": 4,
 "nbformat_minor": 5
}
