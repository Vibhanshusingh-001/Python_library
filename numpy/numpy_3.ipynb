{
 "cells": [
  {
   "cell_type": "markdown",
   "id": "8c8147bb-d9a1-4896-a3e6-b32e9051c9d9",
   "metadata": {},
   "source": [
    "# sorting, searching, counting function"
   ]
  },
  {
   "cell_type": "code",
   "execution_count": 1,
   "id": "70d0a00e-e043-4d28-9bc5-7a9e8f80b47c",
   "metadata": {},
   "outputs": [],
   "source": [
    "import numpy as np"
   ]
  },
  {
   "cell_type": "code",
   "execution_count": 2,
   "id": "e24fdf27-21e3-4833-99d1-37347312478b",
   "metadata": {},
   "outputs": [],
   "source": [
    "arr=np.array([31,46,3,51,61,6,1,61,65,165,1,6])"
   ]
  },
  {
   "cell_type": "code",
   "execution_count": 3,
   "id": "df1db5a6-f7de-46c0-9d1a-ce0483c9c704",
   "metadata": {},
   "outputs": [
    {
     "data": {
      "text/plain": [
       "array([ 31,  46,   3,  51,  61,   6,   1,  61,  65, 165,   1,   6])"
      ]
     },
     "execution_count": 3,
     "metadata": {},
     "output_type": "execute_result"
    }
   ],
   "source": [
    "arr"
   ]
  },
  {
   "cell_type": "code",
   "execution_count": 4,
   "id": "e0e0e4fd-ade9-4953-ac8e-1e5df126b9ea",
   "metadata": {},
   "outputs": [
    {
     "data": {
      "text/plain": [
       "array([  1,   1,   3,   6,   6,  31,  46,  51,  61,  61,  65, 165])"
      ]
     },
     "execution_count": 4,
     "metadata": {},
     "output_type": "execute_result"
    }
   ],
   "source": [
    "np.sort(arr)"
   ]
  },
  {
   "cell_type": "code",
   "execution_count": 6,
   "id": "59e27f07-2b52-4846-b1f8-7937ece8d320",
   "metadata": {},
   "outputs": [
    {
     "data": {
      "text/plain": [
       "7"
      ]
     },
     "execution_count": 6,
     "metadata": {},
     "output_type": "execute_result"
    }
   ],
   "source": [
    "np.searchsorted(arr,34)"
   ]
  },
  {
   "cell_type": "code",
   "execution_count": 7,
   "id": "be7408ce-522d-4994-9c35-0e210d983a41",
   "metadata": {},
   "outputs": [],
   "source": [
    "arr1=np.array([0,23,654,265,23,533,5,33,5,3,32])"
   ]
  },
  {
   "cell_type": "code",
   "execution_count": 8,
   "id": "ad8f4f61-c1a9-49fa-947b-8cd908163ae3",
   "metadata": {},
   "outputs": [
    {
     "data": {
      "text/plain": [
       "10"
      ]
     },
     "execution_count": 8,
     "metadata": {},
     "output_type": "execute_result"
    }
   ],
   "source": [
    "np.count_nonzero(arr1)"
   ]
  },
  {
   "cell_type": "code",
   "execution_count": 9,
   "id": "983ceeb8-f724-403e-96c1-cf3e68c2e67d",
   "metadata": {},
   "outputs": [
    {
     "data": {
      "text/plain": [
       "array([ 31,  46,   3,  51,  61,   6,   1,  61,  65, 165,   1,   6])"
      ]
     },
     "execution_count": 9,
     "metadata": {},
     "output_type": "execute_result"
    }
   ],
   "source": [
    "arr"
   ]
  },
  {
   "cell_type": "code",
   "execution_count": 10,
   "id": "430d1a83-5c86-4ba2-92ed-2cb371795fa2",
   "metadata": {},
   "outputs": [
    {
     "data": {
      "text/plain": [
       "(array([0, 1, 3, 4, 7, 8, 9], dtype=int64),)"
      ]
     },
     "execution_count": 10,
     "metadata": {},
     "output_type": "execute_result"
    }
   ],
   "source": [
    "np.where(arr>6)"
   ]
  },
  {
   "cell_type": "code",
   "execution_count": 12,
   "id": "5f92d2be-e4f0-4662-b5ad-62fe74a183ef",
   "metadata": {},
   "outputs": [
    {
     "data": {
      "text/plain": [
       "array([ 31,  46,  51,  61,   6,  61,  65, 165,   6])"
      ]
     },
     "execution_count": 12,
     "metadata": {},
     "output_type": "execute_result"
    }
   ],
   "source": [
    "np.extract(arr>3, arr)"
   ]
  },
  {
   "cell_type": "code",
   "execution_count": null,
   "id": "37f022a8-f974-47e3-896b-5476ae739e4a",
   "metadata": {},
   "outputs": [],
   "source": [
    "# byte swapping"
   ]
  },
  {
   "cell_type": "code",
   "execution_count": 13,
   "id": "e85abd36-100b-4173-8da3-d01705f7abde",
   "metadata": {},
   "outputs": [
    {
     "data": {
      "text/plain": [
       "array([  520093696,   771751936,    50331648,   855638016,  1023410176,\n",
       "         100663296,    16777216,  1023410176,  1090519040, -1526726656,\n",
       "          16777216,   100663296])"
      ]
     },
     "execution_count": 13,
     "metadata": {},
     "output_type": "execute_result"
    }
   ],
   "source": [
    "arr.byteswap()"
   ]
  },
  {
   "cell_type": "code",
   "execution_count": 17,
   "id": "acbd7844-152b-4bce-a2c9-6c1254bb2e5c",
   "metadata": {},
   "outputs": [],
   "source": [
    "# copies and views # deep copy and shallow copy"
   ]
  },
  {
   "cell_type": "code",
   "execution_count": 15,
   "id": "80f18fbf-368c-4168-a3c5-bbd22d897a05",
   "metadata": {},
   "outputs": [
    {
     "data": {
      "text/plain": [
       "array([ 31,  46,   3,  51,  61,   6,   1,  61,  65, 165,   1,   6])"
      ]
     },
     "execution_count": 15,
     "metadata": {},
     "output_type": "execute_result"
    }
   ],
   "source": [
    "arr"
   ]
  },
  {
   "cell_type": "code",
   "execution_count": 16,
   "id": "6b4a24ee-5209-4320-bbde-8eeda80a3165",
   "metadata": {},
   "outputs": [],
   "source": [
    "a=np.copy(arr)"
   ]
  },
  {
   "cell_type": "code",
   "execution_count": 19,
   "id": "eae6c4fd-67f9-4b6a-8300-495e9714d25b",
   "metadata": {},
   "outputs": [
    {
     "data": {
      "text/plain": [
       "array([ 31,  46,   3,  51,  61,   6,   1,  61,  65, 165,   1,   6])"
      ]
     },
     "execution_count": 19,
     "metadata": {},
     "output_type": "execute_result"
    }
   ],
   "source": [
    "a"
   ]
  },
  {
   "cell_type": "code",
   "execution_count": 20,
   "id": "c0da1ac6-15a5-459d-81ce-266c8674727c",
   "metadata": {},
   "outputs": [],
   "source": [
    "b=arr.view()"
   ]
  },
  {
   "cell_type": "code",
   "execution_count": 21,
   "id": "77621927-e1e4-4020-9fe0-874cfa640765",
   "metadata": {},
   "outputs": [
    {
     "data": {
      "text/plain": [
       "array([ 31,  46,   3,  51,  61,   6,   1,  61,  65, 165,   1,   6])"
      ]
     },
     "execution_count": 21,
     "metadata": {},
     "output_type": "execute_result"
    }
   ],
   "source": [
    "b"
   ]
  },
  {
   "cell_type": "code",
   "execution_count": 22,
   "id": "3adc42f1-6615-47a9-9bfd-4bb8c92f3ebe",
   "metadata": {},
   "outputs": [
    {
     "data": {
      "text/plain": [
       "array([ 31,  46,   3,  51,  61,   6,   1,  61,  65, 165,   1,   6])"
      ]
     },
     "execution_count": 22,
     "metadata": {},
     "output_type": "execute_result"
    }
   ],
   "source": [
    "arr"
   ]
  },
  {
   "cell_type": "code",
   "execution_count": 23,
   "id": "c7f117fd-b95d-44aa-bd7a-bba93be0b923",
   "metadata": {},
   "outputs": [],
   "source": [
    "# viws ke case me koi naya data nhi banta nhi jagah par uski ke ander usako refer kar dega"
   ]
  },
  {
   "cell_type": "code",
   "execution_count": null,
   "id": "ab4a9593-1192-48d6-8ac1-82af4779a1aa",
   "metadata": {},
   "outputs": [],
   "source": [
    "# matrix library"
   ]
  },
  {
   "cell_type": "code",
   "execution_count": 24,
   "id": "803642d2-41f0-4fc3-8ece-f372031ab1c6",
   "metadata": {},
   "outputs": [],
   "source": [
    "import numpy.matlib as nm"
   ]
  },
  {
   "cell_type": "code",
   "execution_count": 25,
   "id": "6fce416c-fc12-4af1-8b52-78b5d91a8fd1",
   "metadata": {},
   "outputs": [
    {
     "data": {
      "text/plain": [
       "matrix([[0., 0., 0., 0., 0.]])"
      ]
     },
     "execution_count": 25,
     "metadata": {},
     "output_type": "execute_result"
    }
   ],
   "source": [
    "nm.zeros(5)"
   ]
  },
  {
   "cell_type": "code",
   "execution_count": 26,
   "id": "ec02ecdb-841f-4e4e-982d-d2fbe746536a",
   "metadata": {},
   "outputs": [
    {
     "data": {
      "text/plain": [
       "matrix([[1., 1., 1., 1.],\n",
       "        [1., 1., 1., 1.],\n",
       "        [1., 1., 1., 1.]])"
      ]
     },
     "execution_count": 26,
     "metadata": {},
     "output_type": "execute_result"
    }
   ],
   "source": [
    "nm.ones((3,4))"
   ]
  },
  {
   "cell_type": "code",
   "execution_count": 27,
   "id": "cfeccc0c-2cff-4b29-91ed-3c131754bc67",
   "metadata": {},
   "outputs": [
    {
     "data": {
      "text/plain": [
       "matrix([[1., 0., 0., 0., 0.],\n",
       "        [0., 1., 0., 0., 0.],\n",
       "        [0., 0., 1., 0., 0.],\n",
       "        [0., 0., 0., 1., 0.],\n",
       "        [0., 0., 0., 0., 1.]])"
      ]
     },
     "execution_count": 27,
     "metadata": {},
     "output_type": "execute_result"
    }
   ],
   "source": [
    "nm.eye(5)"
   ]
  },
  {
   "cell_type": "code",
   "execution_count": 28,
   "id": "87330b3e-9604-4164-b416-a92f8064097b",
   "metadata": {},
   "outputs": [],
   "source": [
    "# numpy - linear algebra"
   ]
  },
  {
   "cell_type": "code",
   "execution_count": 31,
   "id": "77c257ae-ef27-4650-a53d-9c64c7a4c7e7",
   "metadata": {},
   "outputs": [],
   "source": [
    "arr1=np.random.randint([[2,3],[4,5]])"
   ]
  },
  {
   "cell_type": "code",
   "execution_count": 30,
   "id": "c4381a7e-af54-4550-a35b-43163977ecbc",
   "metadata": {},
   "outputs": [],
   "source": [
    "arr2=np.random.randint([[5,3], [2,5]])"
   ]
  },
  {
   "cell_type": "code",
   "execution_count": 33,
   "id": "f967f02d-d51c-4a8a-a47c-bd7e9db37533",
   "metadata": {},
   "outputs": [
    {
     "data": {
      "text/plain": [
       "array([[ 2,  8],\n",
       "       [ 6, 15]])"
      ]
     },
     "execution_count": 33,
     "metadata": {},
     "output_type": "execute_result"
    }
   ],
   "source": [
    "np.dot(arr1,arr2)"
   ]
  },
  {
   "cell_type": "code",
   "execution_count": 34,
   "id": "7a424e28-ce23-449d-b733-ba116309348a",
   "metadata": {},
   "outputs": [
    {
     "data": {
      "text/plain": [
       "array([[ 2,  8],\n",
       "       [ 6, 15]])"
      ]
     },
     "execution_count": 34,
     "metadata": {},
     "output_type": "execute_result"
    }
   ],
   "source": [
    "arr1@arr2"
   ]
  },
  {
   "cell_type": "code",
   "execution_count": null,
   "id": "195dd465-14e2-47ee-abf3-e30c8e701de6",
   "metadata": {},
   "outputs": [],
   "source": []
  },
  {
   "cell_type": "code",
   "execution_count": null,
   "id": "5649cacf-59af-4916-86f9-e96ad79c2f76",
   "metadata": {},
   "outputs": [],
   "source": []
  },
  {
   "cell_type": "code",
   "execution_count": null,
   "id": "f5ea0e3f-30ea-451f-ba48-3193d6bcf868",
   "metadata": {},
   "outputs": [],
   "source": []
  },
  {
   "cell_type": "code",
   "execution_count": null,
   "id": "c0bc3850-728d-4713-993b-2e60ac47d1a0",
   "metadata": {},
   "outputs": [],
   "source": []
  },
  {
   "cell_type": "code",
   "execution_count": null,
   "id": "f1d69b21-772a-4363-8a76-6ba18588069b",
   "metadata": {},
   "outputs": [],
   "source": []
  },
  {
   "cell_type": "code",
   "execution_count": null,
   "id": "be5eb12d-0a85-4b0c-bc39-a7c8a3070b66",
   "metadata": {},
   "outputs": [],
   "source": []
  },
  {
   "cell_type": "code",
   "execution_count": null,
   "id": "d98b26ea-f295-4ff8-b6ad-9a3f5f18b028",
   "metadata": {},
   "outputs": [],
   "source": []
  }
 ],
 "metadata": {
  "kernelspec": {
   "display_name": "Python 3 (ipykernel)",
   "language": "python",
   "name": "python3"
  },
  "language_info": {
   "codemirror_mode": {
    "name": "ipython",
    "version": 3
   },
   "file_extension": ".py",
   "mimetype": "text/x-python",
   "name": "python",
   "nbconvert_exporter": "python",
   "pygments_lexer": "ipython3",
   "version": "3.12.4"
  }
 },
 "nbformat": 4,
 "nbformat_minor": 5
}
