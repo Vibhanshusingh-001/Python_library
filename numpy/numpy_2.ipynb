{
 "cells": [
  {
   "cell_type": "code",
   "execution_count": 7,
   "id": "c68e385a-329a-4862-b3a8-b11a0204e82e",
   "metadata": {},
   "outputs": [],
   "source": [
    "# numpy --> array manipulation "
   ]
  },
  {
   "cell_type": "code",
   "execution_count": 10,
   "id": "8c63f9c5-9f9d-4d60-b797-df2d136f0bb5",
   "metadata": {},
   "outputs": [],
   "source": [
    "import numpy as np"
   ]
  },
  {
   "cell_type": "code",
   "execution_count": 11,
   "id": "8760f755-f62b-460e-baf8-e27b58a2a984",
   "metadata": {},
   "outputs": [],
   "source": [
    "arr= np.random.randint(1,10, (3,4))"
   ]
  },
  {
   "cell_type": "code",
   "execution_count": 12,
   "id": "ebaba4d7-e9d0-42b5-a1d9-5d577b11feb2",
   "metadata": {},
   "outputs": [
    {
     "data": {
      "text/plain": [
       "array([[5, 9, 7, 3],\n",
       "       [8, 9, 1, 5],\n",
       "       [3, 1, 8, 4]])"
      ]
     },
     "execution_count": 12,
     "metadata": {},
     "output_type": "execute_result"
    }
   ],
   "source": [
    "arr"
   ]
  },
  {
   "cell_type": "code",
   "execution_count": 15,
   "id": "746b1f42-39e2-4299-a8a7-2766136b2749",
   "metadata": {},
   "outputs": [
    {
     "ename": "ValueError",
     "evalue": "cannot reshape array of size 12 into shape (2,313)",
     "output_type": "error",
     "traceback": [
      "\u001b[1;31m---------------------------------------------------------------------------\u001b[0m",
      "\u001b[1;31mValueError\u001b[0m                                Traceback (most recent call last)",
      "Cell \u001b[1;32mIn[15], line 1\u001b[0m\n\u001b[1;32m----> 1\u001b[0m \u001b[43marr\u001b[49m\u001b[38;5;241;43m.\u001b[39;49m\u001b[43mreshape\u001b[49m\u001b[43m(\u001b[49m\u001b[38;5;241;43m2\u001b[39;49m\u001b[43m,\u001b[49m\u001b[38;5;241;43m313\u001b[39;49m\u001b[43m)\u001b[49m\n",
      "\u001b[1;31mValueError\u001b[0m: cannot reshape array of size 12 into shape (2,313)"
     ]
    }
   ],
   "source": [
    "arr.reshape(2,313)"
   ]
  },
  {
   "cell_type": "code",
   "execution_count": 14,
   "id": "144e0a75-c635-4790-87bd-67bc06011332",
   "metadata": {},
   "outputs": [
    {
     "data": {
      "text/plain": [
       "array([[5, 8, 3],\n",
       "       [9, 9, 1],\n",
       "       [7, 1, 8],\n",
       "       [3, 5, 4]])"
      ]
     },
     "execution_count": 14,
     "metadata": {},
     "output_type": "execute_result"
    }
   ],
   "source": [
    "arr.T"
   ]
  },
  {
   "cell_type": "code",
   "execution_count": null,
   "id": "a32fcf9d-355f-4af0-a2bb-772c9231f62c",
   "metadata": {},
   "outputs": [],
   "source": [
    "arr.flatten()# ye 1 d me convert karta hai data ko"
   ]
  },
  {
   "cell_type": "code",
   "execution_count": 17,
   "id": "e36102a0-0204-4738-bc57-ea97b2f08aed",
   "metadata": {},
   "outputs": [],
   "source": [
    "arr1=np.array([1,2,3,4,5,6])"
   ]
  },
  {
   "cell_type": "code",
   "execution_count": 18,
   "id": "efdb07d0-57ad-4461-bd68-7b9b34ce2180",
   "metadata": {},
   "outputs": [
    {
     "data": {
      "text/plain": [
       "1"
      ]
     },
     "execution_count": 18,
     "metadata": {},
     "output_type": "execute_result"
    }
   ],
   "source": [
    "arr1.ndim"
   ]
  },
  {
   "cell_type": "code",
   "execution_count": 19,
   "id": "b1f8527a-19c9-4383-8f55-87ffb90d5b7f",
   "metadata": {},
   "outputs": [
    {
     "data": {
      "text/plain": [
       "array([[1],\n",
       "       [2],\n",
       "       [3],\n",
       "       [4],\n",
       "       [5],\n",
       "       [6]])"
      ]
     },
     "execution_count": 19,
     "metadata": {},
     "output_type": "execute_result"
    }
   ],
   "source": [
    "np.expand_dims(arr1,axis=1)"
   ]
  },
  {
   "cell_type": "code",
   "execution_count": 20,
   "id": "4f714b20-b601-42e6-b25c-85c58196ed01",
   "metadata": {},
   "outputs": [
    {
     "data": {
      "text/plain": [
       "array([[1, 2, 3, 4, 5, 6]])"
      ]
     },
     "execution_count": 20,
     "metadata": {},
     "output_type": "execute_result"
    }
   ],
   "source": [
    "np.expand_dims(arr1,axis=0)\n"
   ]
  },
  {
   "cell_type": "code",
   "execution_count": 21,
   "id": "82e6131b-6156-4cca-bae0-df4207829c49",
   "metadata": {},
   "outputs": [
    {
     "data": {
      "text/plain": [
       "array([[5, 9, 7, 3],\n",
       "       [8, 9, 1, 5],\n",
       "       [3, 1, 8, 4]])"
      ]
     },
     "execution_count": 21,
     "metadata": {},
     "output_type": "execute_result"
    }
   ],
   "source": [
    "arr"
   ]
  },
  {
   "cell_type": "code",
   "execution_count": 22,
   "id": "0482a904-fcec-4c5b-ad3e-2fe400e17351",
   "metadata": {},
   "outputs": [
    {
     "data": {
      "text/plain": [
       "array([[5, 9, 7, 3],\n",
       "       [8, 9, 1, 5],\n",
       "       [3, 1, 8, 4]])"
      ]
     },
     "execution_count": 22,
     "metadata": {},
     "output_type": "execute_result"
    }
   ],
   "source": [
    "np.squeeze(arr)"
   ]
  },
  {
   "cell_type": "code",
   "execution_count": 23,
   "id": "2aed7486-3b73-437f-9e2f-6b27963acfc2",
   "metadata": {},
   "outputs": [],
   "source": [
    "data=np.array([[1], [2],[3]])"
   ]
  },
  {
   "cell_type": "code",
   "execution_count": 24,
   "id": "20eba2c6-e978-4b6d-a5de-7fc7eb82b0df",
   "metadata": {},
   "outputs": [
    {
     "data": {
      "text/plain": [
       "array([[1],\n",
       "       [2],\n",
       "       [3]])"
      ]
     },
     "execution_count": 24,
     "metadata": {},
     "output_type": "execute_result"
    }
   ],
   "source": [
    "data"
   ]
  },
  {
   "cell_type": "code",
   "execution_count": 25,
   "id": "42357dac-40a5-45bc-ade1-e324f17327d5",
   "metadata": {},
   "outputs": [
    {
     "data": {
      "text/plain": [
       "array([1, 2, 3])"
      ]
     },
     "execution_count": 25,
     "metadata": {},
     "output_type": "execute_result"
    }
   ],
   "source": [
    "np.squeeze(data)"
   ]
  },
  {
   "cell_type": "code",
   "execution_count": 26,
   "id": "d5399a85-8d30-462a-9348-0992394023b2",
   "metadata": {},
   "outputs": [
    {
     "data": {
      "text/plain": [
       "array([1, 2, 3, 4, 5, 6])"
      ]
     },
     "execution_count": 26,
     "metadata": {},
     "output_type": "execute_result"
    }
   ],
   "source": [
    "arr1"
   ]
  },
  {
   "cell_type": "code",
   "execution_count": 27,
   "id": "5e46e53a-99e9-4780-962f-bf7710c67c2a",
   "metadata": {},
   "outputs": [
    {
     "data": {
      "text/plain": [
       "array([1, 1, 1, 2, 2, 2, 3, 3, 3, 4, 4, 4, 5, 5, 5, 6, 6, 6])"
      ]
     },
     "execution_count": 27,
     "metadata": {},
     "output_type": "execute_result"
    }
   ],
   "source": [
    "np.repeat(arr1, 3)"
   ]
  },
  {
   "cell_type": "code",
   "execution_count": 29,
   "id": "a8701369-b1d0-46c8-9b1c-26472588e09c",
   "metadata": {},
   "outputs": [
    {
     "data": {
      "text/plain": [
       "array([5, 6, 1, 2, 3, 4])"
      ]
     },
     "execution_count": 29,
     "metadata": {},
     "output_type": "execute_result"
    }
   ],
   "source": [
    "np.roll(arr1, 2)"
   ]
  },
  {
   "cell_type": "code",
   "execution_count": 30,
   "id": "06ee3d3d-4f08-44ad-8cc2-b2d324b44ef8",
   "metadata": {},
   "outputs": [
    {
     "data": {
      "text/plain": [
       "array([[1, 0, 0, 0, 0, 0],\n",
       "       [0, 2, 0, 0, 0, 0],\n",
       "       [0, 0, 3, 0, 0, 0],\n",
       "       [0, 0, 0, 4, 0, 0],\n",
       "       [0, 0, 0, 0, 5, 0],\n",
       "       [0, 0, 0, 0, 0, 6]])"
      ]
     },
     "execution_count": 30,
     "metadata": {},
     "output_type": "execute_result"
    }
   ],
   "source": [
    "np.diag(arr1)"
   ]
  },
  {
   "cell_type": "code",
   "execution_count": 31,
   "id": "d761e70b-1fa6-418c-bc43-c9cf33237d27",
   "metadata": {},
   "outputs": [],
   "source": [
    "# binary operation"
   ]
  },
  {
   "cell_type": "code",
   "execution_count": 32,
   "id": "f0e7488b-8e68-4477-a2e6-afa0d0ac9803",
   "metadata": {},
   "outputs": [],
   "source": [
    "arr1=np.random.randint(1,10,(3,4))"
   ]
  },
  {
   "cell_type": "code",
   "execution_count": 33,
   "id": "6dc558eb-6bb3-4c8e-94e0-ee11615ac89c",
   "metadata": {},
   "outputs": [],
   "source": [
    "arr2=np.random.randint(1,10,(3,4))"
   ]
  },
  {
   "cell_type": "raw",
   "id": "00fffea7-824b-4e6d-9cff-6726938b47d6",
   "metadata": {},
   "source": []
  },
  {
   "cell_type": "code",
   "execution_count": 34,
   "id": "62efbd2f-83a5-42a8-a6a8-71b6e1a05176",
   "metadata": {},
   "outputs": [
    {
     "data": {
      "text/plain": [
       "array([[2, 7, 8, 4],\n",
       "       [6, 9, 9, 5],\n",
       "       [3, 1, 2, 2]])"
      ]
     },
     "execution_count": 34,
     "metadata": {},
     "output_type": "execute_result"
    }
   ],
   "source": [
    "arr1"
   ]
  },
  {
   "cell_type": "code",
   "execution_count": 35,
   "id": "8657e84d-0507-455c-93ac-6cfabd95e1ec",
   "metadata": {},
   "outputs": [
    {
     "data": {
      "text/plain": [
       "array([[4, 4, 7, 3],\n",
       "       [1, 1, 8, 3],\n",
       "       [4, 2, 3, 5]])"
      ]
     },
     "execution_count": 35,
     "metadata": {},
     "output_type": "execute_result"
    }
   ],
   "source": [
    "arr2"
   ]
  },
  {
   "cell_type": "code",
   "execution_count": 36,
   "id": "8f68bc03-ea79-445e-9d9a-6cad1b4445a0",
   "metadata": {},
   "outputs": [
    {
     "data": {
      "text/plain": [
       "array([[ 6, 11, 15,  7],\n",
       "       [ 7, 10, 17,  8],\n",
       "       [ 7,  3,  5,  7]])"
      ]
     },
     "execution_count": 36,
     "metadata": {},
     "output_type": "execute_result"
    }
   ],
   "source": [
    "arr1+arr2"
   ]
  },
  {
   "cell_type": "code",
   "execution_count": 37,
   "id": "bd75eb2a-0aeb-4cf9-a1d0-1e7d50bfeae7",
   "metadata": {},
   "outputs": [
    {
     "data": {
      "text/plain": [
       "array([[ 8, 28, 56, 12],\n",
       "       [ 6,  9, 72, 15],\n",
       "       [12,  2,  6, 10]])"
      ]
     },
     "execution_count": 37,
     "metadata": {},
     "output_type": "execute_result"
    }
   ],
   "source": [
    "arr1*arr2"
   ]
  },
  {
   "cell_type": "code",
   "execution_count": 38,
   "id": "6d3c90e9-7b9b-4b8c-8019-c28df539617a",
   "metadata": {},
   "outputs": [
    {
     "data": {
      "text/plain": [
       "array([[0.5       , 1.75      , 1.14285714, 1.33333333],\n",
       "       [6.        , 9.        , 1.125     , 1.66666667],\n",
       "       [0.75      , 0.5       , 0.66666667, 0.4       ]])"
      ]
     },
     "execution_count": 38,
     "metadata": {},
     "output_type": "execute_result"
    }
   ],
   "source": [
    "arr1/arr2"
   ]
  },
  {
   "cell_type": "code",
   "execution_count": 39,
   "id": "ed8ee87a-7be2-4d8b-900b-19eb3f1eafdf",
   "metadata": {},
   "outputs": [
    {
     "data": {
      "text/plain": [
       "array([[-2,  3,  1,  1],\n",
       "       [ 5,  8,  1,  2],\n",
       "       [-1, -1, -1, -3]])"
      ]
     },
     "execution_count": 39,
     "metadata": {},
     "output_type": "execute_result"
    }
   ],
   "source": [
    "arr1-arr2"
   ]
  },
  {
   "cell_type": "code",
   "execution_count": 40,
   "id": "54e50591-6a0d-4fe1-9e10-3fe399623aff",
   "metadata": {},
   "outputs": [
    {
     "data": {
      "text/plain": [
       "array([[2, 3, 1, 1],\n",
       "       [0, 0, 1, 2],\n",
       "       [3, 1, 2, 2]])"
      ]
     },
     "execution_count": 40,
     "metadata": {},
     "output_type": "execute_result"
    }
   ],
   "source": [
    "arr1%arr2"
   ]
  },
  {
   "cell_type": "code",
   "execution_count": 41,
   "id": "5059cc94-1019-406b-8507-53e043dbc659",
   "metadata": {},
   "outputs": [
    {
     "data": {
      "text/plain": [
       "array([[      16,     2401,  2097152,       64],\n",
       "       [       6,        9, 43046721,      125],\n",
       "       [      81,        1,        8,       32]])"
      ]
     },
     "execution_count": 41,
     "metadata": {},
     "output_type": "execute_result"
    }
   ],
   "source": [
    "arr1**arr2"
   ]
  },
  {
   "cell_type": "code",
   "execution_count": 42,
   "id": "f02b84a6-3e1d-4fac-81e8-7a19bc1de6a3",
   "metadata": {},
   "outputs": [
    {
     "data": {
      "text/plain": [
       "array([[0, 4, 0, 0],\n",
       "       [0, 1, 8, 1],\n",
       "       [0, 0, 2, 0]])"
      ]
     },
     "execution_count": 42,
     "metadata": {},
     "output_type": "execute_result"
    }
   ],
   "source": [
    "arr1&arr2"
   ]
  },
  {
   "cell_type": "code",
   "execution_count": 43,
   "id": "063533bd-1572-48a3-afce-e6aa1d398cb4",
   "metadata": {},
   "outputs": [
    {
     "data": {
      "text/plain": [
       "array([[ -3,  -8,  -9,  -5],\n",
       "       [ -7, -10, -10,  -6],\n",
       "       [ -4,  -2,  -3,  -3]])"
      ]
     },
     "execution_count": 43,
     "metadata": {},
     "output_type": "execute_result"
    }
   ],
   "source": [
    "~arr1"
   ]
  },
  {
   "cell_type": "code",
   "execution_count": 44,
   "id": "c0e17055-4fe3-46c1-9f12-5ab67b046dc2",
   "metadata": {},
   "outputs": [
    {
     "data": {
      "text/plain": [
       "array([[ 6,  7, 15,  7],\n",
       "       [ 7,  9,  9,  7],\n",
       "       [ 7,  3,  3,  7]])"
      ]
     },
     "execution_count": 44,
     "metadata": {},
     "output_type": "execute_result"
    }
   ],
   "source": [
    "arr1|arr2"
   ]
  },
  {
   "cell_type": "code",
   "execution_count": 45,
   "id": "c708a695-e470-4d67-983a-34ba3fb06dc4",
   "metadata": {},
   "outputs": [
    {
     "data": {
      "text/plain": [
       "array([[False,  True,  True,  True],\n",
       "       [ True,  True,  True,  True],\n",
       "       [False, False, False, False]])"
      ]
     },
     "execution_count": 45,
     "metadata": {},
     "output_type": "execute_result"
    }
   ],
   "source": [
    "arr1>arr2"
   ]
  },
  {
   "cell_type": "code",
   "execution_count": 46,
   "id": "f395ebc6-fc89-42f1-bd9b-5206b32ec440",
   "metadata": {},
   "outputs": [],
   "source": [
    "# numpy- string function"
   ]
  },
  {
   "cell_type": "code",
   "execution_count": 47,
   "id": "e01fa83e-0558-4de1-9deb-6e47eab0ed05",
   "metadata": {},
   "outputs": [],
   "source": [
    "arr=np.array([\"sudh\",\"kumar\"])"
   ]
  },
  {
   "cell_type": "code",
   "execution_count": 48,
   "id": "707bdd2c-3b5b-4acb-8bdf-fb1834b8ec87",
   "metadata": {},
   "outputs": [
    {
     "data": {
      "text/plain": [
       "array(['sudh', 'kumar'], dtype='<U5')"
      ]
     },
     "execution_count": 48,
     "metadata": {},
     "output_type": "execute_result"
    }
   ],
   "source": [
    "arr"
   ]
  },
  {
   "cell_type": "code",
   "execution_count": 50,
   "id": "9b7baa4e-5f8d-40e0-8f77-f3252fc6fb1c",
   "metadata": {},
   "outputs": [
    {
     "data": {
      "text/plain": [
       "array(['SUDH', 'KUMAR'], dtype='<U5')"
      ]
     },
     "execution_count": 50,
     "metadata": {},
     "output_type": "execute_result"
    }
   ],
   "source": [
    "np.char.upper(arr)"
   ]
  },
  {
   "cell_type": "code",
   "execution_count": 51,
   "id": "d27f67ab-1b57-4dc1-bdf1-e4725a66d669",
   "metadata": {},
   "outputs": [
    {
     "data": {
      "text/plain": [
       "array(['Sudh', 'Kumar'], dtype='<U5')"
      ]
     },
     "execution_count": 51,
     "metadata": {},
     "output_type": "execute_result"
    }
   ],
   "source": [
    "np.char.title(arr)"
   ]
  },
  {
   "cell_type": "code",
   "execution_count": 53,
   "id": "f140ae4c-a3e1-455d-a4ea-16bec4995f58",
   "metadata": {},
   "outputs": [
    {
     "data": {
      "text/plain": [
       "array(['Sudh', 'Kumar'], dtype='<U5')"
      ]
     },
     "execution_count": 53,
     "metadata": {},
     "output_type": "execute_result"
    }
   ],
   "source": [
    "np.char.capitalize(arr)"
   ]
  },
  {
   "cell_type": "code",
   "execution_count": 54,
   "id": "2ea69348-97ef-4e7c-8967-308405e2b8d7",
   "metadata": {},
   "outputs": [],
   "source": [
    "# numpy- mathematical function "
   ]
  },
  {
   "cell_type": "code",
   "execution_count": 55,
   "id": "1f11da56-8301-4ec0-aa7f-411efc7078fc",
   "metadata": {},
   "outputs": [
    {
     "data": {
      "text/plain": [
       "array([[2, 7, 8, 4],\n",
       "       [6, 9, 9, 5],\n",
       "       [3, 1, 2, 2]])"
      ]
     },
     "execution_count": 55,
     "metadata": {},
     "output_type": "execute_result"
    }
   ],
   "source": [
    "arr1"
   ]
  },
  {
   "cell_type": "code",
   "execution_count": 56,
   "id": "a2a07a90-0747-45d1-ba47-76e0d1efb976",
   "metadata": {},
   "outputs": [
    {
     "data": {
      "text/plain": [
       "array([[ 0.90929743,  0.6569866 ,  0.98935825, -0.7568025 ],\n",
       "       [-0.2794155 ,  0.41211849,  0.41211849, -0.95892427],\n",
       "       [ 0.14112001,  0.84147098,  0.90929743,  0.90929743]])"
      ]
     },
     "execution_count": 56,
     "metadata": {},
     "output_type": "execute_result"
    }
   ],
   "source": [
    "np.sin(arr1)"
   ]
  },
  {
   "cell_type": "code",
   "execution_count": 57,
   "id": "0470dc4a-462a-44ab-9c10-2cc52f99b0ca",
   "metadata": {},
   "outputs": [
    {
     "data": {
      "text/plain": [
       "array([[-0.41614684,  0.75390225, -0.14550003, -0.65364362],\n",
       "       [ 0.96017029, -0.91113026, -0.91113026,  0.28366219],\n",
       "       [-0.9899925 ,  0.54030231, -0.41614684, -0.41614684]])"
      ]
     },
     "execution_count": 57,
     "metadata": {},
     "output_type": "execute_result"
    }
   ],
   "source": [
    "np.cos(arr1)"
   ]
  },
  {
   "cell_type": "code",
   "execution_count": 58,
   "id": "7d1e51fc-6eb3-4d04-8ace-595d5817fb3b",
   "metadata": {},
   "outputs": [
    {
     "data": {
      "text/plain": [
       "array([[-2.18503986,  0.87144798, -6.79971146,  1.15782128],\n",
       "       [-0.29100619, -0.45231566, -0.45231566, -3.38051501],\n",
       "       [-0.14254654,  1.55740772, -2.18503986, -2.18503986]])"
      ]
     },
     "execution_count": 58,
     "metadata": {},
     "output_type": "execute_result"
    }
   ],
   "source": [
    "np.tan(arr1)"
   ]
  },
  {
   "cell_type": "code",
   "execution_count": 59,
   "id": "88e8b1b0-7db3-474c-91f5-8322d74ee5ae",
   "metadata": {},
   "outputs": [
    {
     "data": {
      "text/plain": [
       "array([[0.96402758, 0.99999834, 0.99999977, 0.9993293 ],\n",
       "       [0.99998771, 0.99999997, 0.99999997, 0.9999092 ],\n",
       "       [0.99505475, 0.76159416, 0.96402758, 0.96402758]])"
      ]
     },
     "execution_count": 59,
     "metadata": {},
     "output_type": "execute_result"
    }
   ],
   "source": [
    "np.tanh(arr1)"
   ]
  },
  {
   "cell_type": "code",
   "execution_count": 60,
   "id": "9aafc5af-0c66-4ee4-8f46-6488fb45e27f",
   "metadata": {},
   "outputs": [
    {
     "data": {
      "text/plain": [
       "array([[0.30103   , 0.84509804, 0.90308999, 0.60205999],\n",
       "       [0.77815125, 0.95424251, 0.95424251, 0.69897   ],\n",
       "       [0.47712125, 0.        , 0.30103   , 0.30103   ]])"
      ]
     },
     "execution_count": 60,
     "metadata": {},
     "output_type": "execute_result"
    }
   ],
   "source": [
    "np.log10(arr1)"
   ]
  },
  {
   "cell_type": "code",
   "execution_count": 61,
   "id": "1a35b14b-347e-4b97-80aa-c0b595a85cd3",
   "metadata": {},
   "outputs": [
    {
     "data": {
      "text/plain": [
       "array([[7.38905610e+00, 1.09663316e+03, 2.98095799e+03, 5.45981500e+01],\n",
       "       [4.03428793e+02, 8.10308393e+03, 8.10308393e+03, 1.48413159e+02],\n",
       "       [2.00855369e+01, 2.71828183e+00, 7.38905610e+00, 7.38905610e+00]])"
      ]
     },
     "execution_count": 61,
     "metadata": {},
     "output_type": "execute_result"
    }
   ],
   "source": [
    "np.exp(arr1)"
   ]
  },
  {
   "cell_type": "code",
   "execution_count": 62,
   "id": "f16bae01-cb16-4552-a373-1fb5797aebe9",
   "metadata": {},
   "outputs": [
    {
     "data": {
      "text/plain": [
       "array([[1.41421356, 2.64575131, 2.82842712, 2.        ],\n",
       "       [2.44948974, 3.        , 3.        , 2.23606798],\n",
       "       [1.73205081, 1.        , 1.41421356, 1.41421356]])"
      ]
     },
     "execution_count": 62,
     "metadata": {},
     "output_type": "execute_result"
    }
   ],
   "source": [
    "np.sqrt(arr1)"
   ]
  },
  {
   "cell_type": "code",
   "execution_count": 63,
   "id": "b1f7287d-1ecf-4427-a08c-11706c994601",
   "metadata": {},
   "outputs": [
    {
     "data": {
      "text/plain": [
       "array([[ 4, 49, 64, 16],\n",
       "       [36, 81, 81, 25],\n",
       "       [ 9,  1,  4,  4]], dtype=int32)"
      ]
     },
     "execution_count": 63,
     "metadata": {},
     "output_type": "execute_result"
    }
   ],
   "source": [
    "np.power(arr1,2)"
   ]
  },
  {
   "cell_type": "code",
   "execution_count": 64,
   "id": "ad72d1b0-7c02-4703-997e-b176fb5ab8b2",
   "metadata": {},
   "outputs": [
    {
     "data": {
      "text/plain": [
       "4.833333333333333"
      ]
     },
     "execution_count": 64,
     "metadata": {},
     "output_type": "execute_result"
    }
   ],
   "source": [
    "np.mean(arr1)"
   ]
  },
  {
   "cell_type": "code",
   "execution_count": 66,
   "id": "ba8d0fe5-b251-4a0a-904a-6f360d747e4f",
   "metadata": {},
   "outputs": [
    {
     "data": {
      "text/plain": [
       "4.5"
      ]
     },
     "execution_count": 66,
     "metadata": {},
     "output_type": "execute_result"
    }
   ],
   "source": [
    "np.median(arr1)"
   ]
  },
  {
   "cell_type": "code",
   "execution_count": 67,
   "id": "a33ad65f-110b-4229-8bba-bb4e5e75d9dc",
   "metadata": {},
   "outputs": [
    {
     "data": {
      "text/plain": [
       "7.8055555555555545"
      ]
     },
     "execution_count": 67,
     "metadata": {},
     "output_type": "execute_result"
    }
   ],
   "source": [
    "np.var(arr1)"
   ]
  },
  {
   "cell_type": "code",
   "execution_count": 69,
   "id": "656367a1-ac0b-409f-bda5-e329cd62217f",
   "metadata": {},
   "outputs": [
    {
     "data": {
      "text/plain": [
       "1"
      ]
     },
     "execution_count": 69,
     "metadata": {},
     "output_type": "execute_result"
    }
   ],
   "source": [
    "np.min(arr1)"
   ]
  },
  {
   "cell_type": "code",
   "execution_count": 70,
   "id": "815e0125-c0c4-47ed-bfe8-e2962d6c5c97",
   "metadata": {},
   "outputs": [
    {
     "data": {
      "text/plain": [
       "9"
      ]
     },
     "execution_count": 70,
     "metadata": {},
     "output_type": "execute_result"
    }
   ],
   "source": [
    "np.max(arr1)"
   ]
  },
  {
   "cell_type": "code",
   "execution_count": null,
   "id": "d0598ff4-a0c4-4f32-afb6-a489695346e3",
   "metadata": {},
   "outputs": [],
   "source": []
  },
  {
   "cell_type": "code",
   "execution_count": null,
   "id": "a9b04484-a3ce-473f-a211-23788ddcbf8b",
   "metadata": {},
   "outputs": [],
   "source": []
  },
  {
   "cell_type": "code",
   "execution_count": null,
   "id": "4c764882-7bf5-4645-b7fd-868033856ed6",
   "metadata": {},
   "outputs": [],
   "source": []
  }
 ],
 "metadata": {
  "kernelspec": {
   "display_name": "Python 3 (ipykernel)",
   "language": "python",
   "name": "python3"
  },
  "language_info": {
   "codemirror_mode": {
    "name": "ipython",
    "version": 3
   },
   "file_extension": ".py",
   "mimetype": "text/x-python",
   "name": "python",
   "nbconvert_exporter": "python",
   "pygments_lexer": "ipython3",
   "version": "3.12.4"
  }
 },
 "nbformat": 4,
 "nbformat_minor": 5
}
